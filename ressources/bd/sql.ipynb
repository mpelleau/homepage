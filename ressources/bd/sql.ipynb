{
 "cells": [
  {
   "cell_type": "markdown",
   "metadata": {},
   "source": [
    "# Utilisation de SQLite dans Python 3"
   ]
  },
  {
   "cell_type": "markdown",
   "metadata": {},
   "source": [
    "## 0. Remarque préliminaire"
   ]
  },
  {
   "cell_type": "markdown",
   "metadata": {},
   "source": [
    "J'utilise Jupyter pour la présentation, mais vous pouvez utiliser l'interface que vous voulez avec Python 3."
   ]
  },
  {
   "cell_type": "markdown",
   "metadata": {},
   "source": [
    "## 1. Connexion et curseur"
   ]
  },
  {
   "cell_type": "code",
   "execution_count": 1,
   "metadata": {},
   "outputs": [],
   "source": [
    "import sqlite3\n",
    "conn = sqlite3.connect('emp.db')\n",
    "c = conn.cursor()"
   ]
  },
  {
   "cell_type": "markdown",
   "metadata": {},
   "source": [
    "c est un curseur, on va l'utiliser pour nos requêtes."
   ]
  },
  {
   "cell_type": "code",
   "execution_count": 2,
   "metadata": {},
   "outputs": [],
   "source": [
    "conn.commit()"
   ]
  },
  {
   "cell_type": "markdown",
   "metadata": {},
   "source": [
    "Sauvegarder (`commit`) les changements"
   ]
  },
  {
   "cell_type": "code",
   "execution_count": 3,
   "metadata": {},
   "outputs": [],
   "source": [
    "conn.close()"
   ]
  },
  {
   "cell_type": "markdown",
   "metadata": {},
   "source": [
    "Fermer la connexion. Si des changements ont été faits sans `commit`, ils sont perdus."
   ]
  },
  {
   "cell_type": "markdown",
   "metadata": {},
   "source": [
    "## 2. Requêtes de base"
   ]
  },
  {
   "cell_type": "code",
   "execution_count": 4,
   "metadata": {},
   "outputs": [],
   "source": [
    "import sqlite3\n",
    "conn = sqlite3.connect('emp.db')\n",
    "c = conn.cursor()"
   ]
  },
  {
   "cell_type": "code",
   "execution_count": 5,
   "metadata": {},
   "outputs": [
    {
     "data": {
      "text/plain": [
       "<sqlite3.Cursor at 0x7fcdddd29c70>"
      ]
     },
     "execution_count": 5,
     "metadata": {},
     "output_type": "execute_result"
    }
   ],
   "source": [
    "c"
   ]
  },
  {
   "cell_type": "code",
   "execution_count": 6,
   "metadata": {},
   "outputs": [
    {
     "data": {
      "text/plain": [
       "<sqlite3.Cursor at 0x7fcdddd29c70>"
      ]
     },
     "execution_count": 6,
     "metadata": {},
     "output_type": "execute_result"
    }
   ],
   "source": [
    "c.execute('SELECT * FROM dept')"
   ]
  },
  {
   "cell_type": "markdown",
   "metadata": {},
   "source": [
    "Renvoie un curseur, on va pouvoir aller chercher les résultats grâce à lui."
   ]
  },
  {
   "cell_type": "code",
   "execution_count": 7,
   "metadata": {},
   "outputs": [
    {
     "data": {
      "text/plain": [
       "(10, 'finance', 'paris')"
      ]
     },
     "execution_count": 7,
     "metadata": {},
     "output_type": "execute_result"
    }
   ],
   "source": [
    "c.fetchone()"
   ]
  },
  {
   "cell_type": "code",
   "execution_count": 8,
   "metadata": {},
   "outputs": [
    {
     "data": {
      "text/plain": [
       "(20, 'recherche', 'nice')"
      ]
     },
     "execution_count": 8,
     "metadata": {},
     "output_type": "execute_result"
    }
   ],
   "source": [
    "c.fetchone()"
   ]
  },
  {
   "cell_type": "markdown",
   "metadata": {},
   "source": [
    "`c.fetchone()` renvoie une ligne, sous forme d'uplet (au sens de Python)"
   ]
  },
  {
   "cell_type": "markdown",
   "metadata": {},
   "source": [
    "`c.fetchall()` renvoie toutes les lignes qui restent, sous forme de liste d'uplets"
   ]
  },
  {
   "cell_type": "code",
   "execution_count": 9,
   "metadata": {},
   "outputs": [
    {
     "data": {
      "text/plain": [
       "[(30, 'vente', 'lyon'), (40, 'fabrication', 'marseille')]"
      ]
     },
     "execution_count": 9,
     "metadata": {},
     "output_type": "execute_result"
    }
   ],
   "source": [
    "c.fetchall()"
   ]
  },
  {
   "cell_type": "markdown",
   "metadata": {},
   "source": [
    "On peut aussi utiliser les guillemets triples pour écrire une requête sur plusieurs lignes."
   ]
  },
  {
   "cell_type": "code",
   "execution_count": 10,
   "metadata": {},
   "outputs": [
    {
     "data": {
      "text/plain": [
       "(1090,\n",
       " 'Leroy',\n",
       " 'president',\n",
       " None,\n",
       " '2017-01-01',\n",
       " 5000,\n",
       " None,\n",
       " 10,\n",
       " 10,\n",
       " 'finance',\n",
       " 'paris')"
      ]
     },
     "execution_count": 10,
     "metadata": {},
     "output_type": "execute_result"
    }
   ],
   "source": [
    "c.execute('''SELECT *\n",
    "             FROM emp, dept\n",
    "             WHERE emp.numd = dept.numd''')\n",
    "c.fetchone()"
   ]
  },
  {
   "cell_type": "markdown",
   "metadata": {},
   "source": [
    "On peut utiliser la syntaxe de Python sur les listes pour afficher toutes les lignes produites."
   ]
  },
  {
   "cell_type": "code",
   "execution_count": 11,
   "metadata": {},
   "outputs": [
    {
     "name": "stdout",
     "output_type": "stream",
     "text": [
      "(1090, 'Leroy', 'president', None, '2017-01-01', 5000, None, 10, 10, 'finance', 'paris')\n",
      "(1040, 'Mercier', 'directeur', 1090, '2017-03-01', 4000, None, 20, 20, 'recherche', 'nice')\n",
      "(1060, 'Noiret', 'directeur', 1090, '2017-01-20', 3500, None, 30, 30, 'vente', 'lyon')\n",
      "(1070, 'Lesage', 'directeur', 1090, '2017-06-10', 3400, None, 10, 10, 'finance', 'paris')\n",
      "(1080, 'Dubois', 'ingenieur', 1040, '2017-07-20', 4000, None, 20, 20, 'recherche', 'nice')\n",
      "(2030, 'Chatel', 'ingenieur', 1040, '2017-08-20', 3000, None, 20, 20, 'recherche', 'nice')\n",
      "(2020, 'Fremont', 'secretaire', 1060, '2018-01-20', 1100, None, 30, 30, 'vente', 'lyon')\n",
      "(1020, 'Biraud', 'commercial', 1060, '2017-02-10', 2000, 400, 30, 30, 'vente', 'lyon')\n",
      "(1030, 'Berger', 'commercial', 1060, '2017-02-01', 1200, 700, 30, 30, 'vente', 'lyon')\n",
      "(1050, 'Martin', 'commercial', 1060, '2017-03-10', 1300, 1600, 30, 30, 'vente', 'lyon')\n",
      "(2000, 'Benain', 'commercial', 1060, '2017-02-20', 2000, 2100, 30, 30, 'vente', 'lyon')\n",
      "(2040, 'Villard', 'secretaire', 1070, '2017-08-01', 1800, None, 10, 10, 'finance', 'paris')\n",
      "(1010, 'Leclerc', 'secretaire', 2030, '2017-01-01', 1000, None, 20, 20, 'recherche', 'nice')\n",
      "(2010, 'Clement', 'secretaire', 1080, '2018-01-10', 1200, None, 20, 20, 'recherche', 'nice')\n",
      "(3000, 'Dubois', 'secretaire', 1060, '2019-11-26', 1300, 0, 20, 20, 'recherche', 'nice')\n",
      "(3100, 'Durand', 'commercial', 1060, '2019-11-26', 2000, 1000, 20, 20, 'recherche', 'nice')\n"
     ]
    }
   ],
   "source": [
    "c.execute('SELECT * FROM emp, dept WHERE emp.numd = dept.numd')\n",
    "for ligne in c.fetchall():\n",
    "    print(ligne)"
   ]
  },
  {
   "cell_type": "markdown",
   "metadata": {},
   "source": [
    "On a ainsi itéré sur la liste obtenue par `c.fetchall()`, mais on peut aussi traiter le curseur `c` comme un itérateur."
   ]
  },
  {
   "cell_type": "code",
   "execution_count": 12,
   "metadata": {},
   "outputs": [
    {
     "name": "stdout",
     "output_type": "stream",
     "text": [
      "(101, 'Projet stade')\n",
      "(102, 'Projet centre commercial')\n",
      "(103, 'Projet tramway')\n",
      "(105, 'projet génial')\n",
      "(106, 'augmenter son salaire')\n",
      "(107, 'projet génial')\n",
      "(108, 'augmenter son salaire')\n"
     ]
    }
   ],
   "source": [
    "for ligne in c.execute('SELECT * FROM projet'):\n",
    "    print(ligne)\n",
    "    "
   ]
  },
  {
   "cell_type": "markdown",
   "metadata": {},
   "source": [
    "## 3. Utilisation de variables Python dans les requêtes"
   ]
  },
  {
   "cell_type": "markdown",
   "metadata": {},
   "source": [
    "Fréquemment, les opérations SQL vont utiliser des variables Python.<br/>\n",
    "L'exemple suivant est un mauvais exemple, à ne pas suivre."
   ]
  },
  {
   "cell_type": "code",
   "execution_count": 13,
   "metadata": {},
   "outputs": [
    {
     "data": {
      "text/plain": [
       "<sqlite3.Cursor at 0x7fcdddd29c70>"
      ]
     },
     "execution_count": 13,
     "metadata": {},
     "output_type": "execute_result"
    }
   ],
   "source": [
    "nom_projet = 'projet génial'\n",
    "c.executescript(\"INSERT INTO projet (nomp) VALUES  ('{}');\".format(nom_projet))"
   ]
  },
  {
   "cell_type": "markdown",
   "metadata": {},
   "source": [
    "La méthode `c.executescript(string)` permet d'exécuter plusieurs commandes SQL, mais cette technique est dangereuse.\n",
    "En effet, procéder ainsi est peu sûr et rend votre programme vulnérable à une attaque par injection de SQL : cela consiste à ajouter une requête différente dans ce qui devrait être une chaîne de caractères banale."
   ]
  },
  {
   "cell_type": "markdown",
   "metadata": {},
   "source": [
    "### Injection de SQL"
   ]
  },
  {
   "cell_type": "code",
   "execution_count": 14,
   "metadata": {},
   "outputs": [
    {
     "data": {
      "text/plain": [
       "[(2040, 'Villard', 'secretaire', 1070, '2017-08-01', 1800, None, 10)]"
      ]
     },
     "execution_count": 14,
     "metadata": {},
     "output_type": "execute_result"
    }
   ],
   "source": [
    "c.execute('SELECT * FROM emp WHERE matr = 2040;')\n",
    "c.fetchall()"
   ]
  },
  {
   "cell_type": "markdown",
   "metadata": {},
   "source": [
    "Supposons que la variable `poste` soit obtenue à partir d'une exécution non sécurisée, par exemple, directement obtenue depuis un formulaire web. Alors une personne mal intentionnée a réussi à faire en sorte que"
   ]
  },
  {
   "cell_type": "code",
   "execution_count": 15,
   "metadata": {},
   "outputs": [],
   "source": [
    "nom_projet = 'augmenter son salaire\"); UPDATE emp SET salaire = salaire + 200 WHERE matr = (\"2040'"
   ]
  },
  {
   "cell_type": "markdown",
   "metadata": {},
   "source": [
    "Alors, le script exécuté par SQL sera"
   ]
  },
  {
   "cell_type": "code",
   "execution_count": 16,
   "metadata": {},
   "outputs": [
    {
     "name": "stdout",
     "output_type": "stream",
     "text": [
      "INSERT INTO projet (nomp) VALUES  (\"augmenter son salaire\"); UPDATE emp SET salaire = salaire + 200 WHERE matr = (\"2040\");\n"
     ]
    }
   ],
   "source": [
    "print('INSERT INTO projet (nomp) VALUES  (\"{}\");'.format(nom_projet))"
   ]
  },
  {
   "cell_type": "markdown",
   "metadata": {},
   "source": [
    "Observons son effet"
   ]
  },
  {
   "cell_type": "code",
   "execution_count": 17,
   "metadata": {},
   "outputs": [
    {
     "data": {
      "text/plain": [
       "<sqlite3.Cursor at 0x7fcdddd29c70>"
      ]
     },
     "execution_count": 17,
     "metadata": {},
     "output_type": "execute_result"
    }
   ],
   "source": [
    "c.executescript('INSERT INTO projet (nomp) VALUES  (\"{}\");'.format(nom_projet))"
   ]
  },
  {
   "cell_type": "code",
   "execution_count": 18,
   "metadata": {},
   "outputs": [
    {
     "data": {
      "text/plain": [
       "[(2040, 'Villard', 'secretaire', 1070, '2017-08-01', 2000, None, 10)]"
      ]
     },
     "execution_count": 18,
     "metadata": {},
     "output_type": "execute_result"
    }
   ],
   "source": [
    "c.execute('SELECT * FROM emp WHERE matr = 2040;')\n",
    "c.fetchall()"
   ]
  },
  {
   "cell_type": "markdown",
   "metadata": {},
   "source": [
    "Ainsi, la personne de matricule 2040 a augmenté son salaire de 200€."
   ]
  },
  {
   "cell_type": "markdown",
   "metadata": {},
   "source": [
    "À la place, utilisez `c.execute(str)` qui exécute au plus une requête et les espaces réservés prévus par cette méthode."
   ]
  },
  {
   "cell_type": "code",
   "execution_count": 19,
   "metadata": {},
   "outputs": [
    {
     "data": {
      "text/plain": [
       "<sqlite3.Cursor at 0x7fcdddd29c70>"
      ]
     },
     "execution_count": 19,
     "metadata": {},
     "output_type": "execute_result"
    }
   ],
   "source": [
    "u = ('écrire du sql raisonnable',)\n",
    "c.execute('INSERT INTO projet (nomp) VALUES (?)',u)"
   ]
  },
  {
   "cell_type": "markdown",
   "metadata": {},
   "source": [
    "Le point d'interrogation `?` peut être utilisé comme espace réservé pour n'importe quelle valeur, puis fournissez un uplet de valeurs comme second argument de la méthode `execute` appliquée au curseur `c`."
   ]
  },
  {
   "cell_type": "code",
   "execution_count": 20,
   "metadata": {},
   "outputs": [],
   "source": [
    "nouveaux = [(4000, 'Dubois', 'secretaire', 1060, '2019-11-26', 1300, 0, 20),\n",
    "             (4100, 'Durand', 'commercial', 1060, '2019-11-26', 2000, 1000, 20)\n",
    "            ]"
   ]
  },
  {
   "cell_type": "code",
   "execution_count": 21,
   "metadata": {},
   "outputs": [
    {
     "data": {
      "text/plain": [
       "<sqlite3.Cursor at 0x7fcdddd29c70>"
      ]
     },
     "execution_count": 21,
     "metadata": {},
     "output_type": "execute_result"
    }
   ],
   "source": [
    "c.executemany('INSERT INTO emp VALUES (?,?,?,?,?,?,?,?)', nouveaux)"
   ]
  },
  {
   "cell_type": "markdown",
   "metadata": {},
   "source": [
    "On peut aussi exécuter pour une liste d'uplets avec `executemany`."
   ]
  },
  {
   "cell_type": "code",
   "execution_count": 22,
   "metadata": {},
   "outputs": [
    {
     "data": {
      "text/plain": [
       "<sqlite3.Cursor at 0x7fcdddd29c70>"
      ]
     },
     "execution_count": 22,
     "metadata": {},
     "output_type": "execute_result"
    }
   ],
   "source": [
    "c.execute('SELECT * FROM emp')"
   ]
  },
  {
   "cell_type": "code",
   "execution_count": 23,
   "metadata": {},
   "outputs": [
    {
     "data": {
      "text/plain": [
       "[(1090, 'Leroy', 'president', None, '2017-01-01', 5000, None, 10),\n",
       " (1040, 'Mercier', 'directeur', 1090, '2017-03-01', 4000, None, 20),\n",
       " (1060, 'Noiret', 'directeur', 1090, '2017-01-20', 3500, None, 30),\n",
       " (1070, 'Lesage', 'directeur', 1090, '2017-06-10', 3400, None, 10),\n",
       " (1080, 'Dubois', 'ingenieur', 1040, '2017-07-20', 4000, None, 20),\n",
       " (2030, 'Chatel', 'ingenieur', 1040, '2017-08-20', 3000, None, 20),\n",
       " (2020, 'Fremont', 'secretaire', 1060, '2018-01-20', 1100, None, 30),\n",
       " (1020, 'Biraud', 'commercial', 1060, '2017-02-10', 2000, 400, 30),\n",
       " (1030, 'Berger', 'commercial', 1060, '2017-02-01', 1200, 700, 30),\n",
       " (1050, 'Martin', 'commercial', 1060, '2017-03-10', 1300, 1600, 30),\n",
       " (2000, 'Benain', 'commercial', 1060, '2017-02-20', 2000, 2100, 30),\n",
       " (2040, 'Villard', 'secretaire', 1070, '2017-08-01', 2000, None, 10),\n",
       " (1010, 'Leclerc', 'secretaire', 2030, '2017-01-01', 1000, None, 20),\n",
       " (2010, 'Clement', 'secretaire', 1080, '2018-01-10', 1200, None, 20),\n",
       " (3000, 'Dubois', 'secretaire', 1060, '2019-11-26', 1300, 0, 20),\n",
       " (3100, 'Durand', 'commercial', 1060, '2019-11-26', 2000, 1000, 20),\n",
       " (4000, 'Dubois', 'secretaire', 1060, '2019-11-26', 1300, 0, 20),\n",
       " (4100, 'Durand', 'commercial', 1060, '2019-11-26', 2000, 1000, 20)]"
      ]
     },
     "execution_count": 23,
     "metadata": {},
     "output_type": "execute_result"
    }
   ],
   "source": [
    "c.fetchall()"
   ]
  },
  {
   "cell_type": "code",
   "execution_count": 24,
   "metadata": {},
   "outputs": [],
   "source": [
    "conn.close()"
   ]
  },
  {
   "cell_type": "code",
   "execution_count": null,
   "metadata": {},
   "outputs": [],
   "source": []
  }
 ],
 "metadata": {
  "kernelspec": {
   "display_name": "Python 3",
   "language": "python",
   "name": "python3"
  },
  "language_info": {
   "codemirror_mode": {
    "name": "ipython",
    "version": 3
   },
   "file_extension": ".py",
   "mimetype": "text/x-python",
   "name": "python",
   "nbconvert_exporter": "python",
   "pygments_lexer": "ipython3",
   "version": "3.7.3"
  }
 },
 "nbformat": 4,
 "nbformat_minor": 2
}
